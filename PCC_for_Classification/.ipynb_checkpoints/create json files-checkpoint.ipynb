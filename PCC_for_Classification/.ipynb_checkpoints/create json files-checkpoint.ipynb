{
 "cells": [
  {
   "cell_type": "code",
   "execution_count": 8,
   "id": "880e7109-28f2-46b5-ad02-f0846a857765",
   "metadata": {},
   "outputs": [
    {
     "name": "stdout",
     "output_type": "stream",
     "text": [
      "JSON data written to MMSP2023_methods_res256.json\n",
      "JSON data written to MMSP2023_methods_res128.json\n",
      "JSON data written to MMSP2023_methods_res64.json\n"
     ]
    }
   ],
   "source": [
    "import json\n",
    "\n",
    "acc_list = [\n",
    "    [ 0.690528630 ,0.797356830 ,0.860132160 ,0.864537440 ,0.893171810 ,0.889867840 ,0.895374450 ,0.909691630], ## 256\n",
    "    [ 0.698237890, 0.795154190, 0.866740090 ,0.882158590 ,0.896475770 ,0.901982380 ,0.908590310 ,0.911894270], ## 128\n",
    "    [ 0.700440530 ,0.787444930 ,0.851321590 ,0.867841410 ,0.898678410 ,0.900881060 ,0.910792950 ,0.910792950], ## 64\n",
    "]\n",
    "bits_list = [\n",
    "    [5.59,8.66,14.23,17.83,27.59,37.52,52.93,264.49],\n",
    "    [5.75,9.84,13.43,19.07,26.99,38.59,54.59,177.16],\n",
    "    [5.63,9.59,13.56,19.21,25.55,36.56,52.10,203.49 ],\n",
    "]\n",
    "resolution_list = [256, 128, 64]\n",
    "\n",
    "for index in range(len(acc_list)):\n",
    "    data = {\n",
    "        \"file_name\": f\"MMSP2023_methods_res{resolution_list[index]}\",\n",
    "        \"name\": \"Ulhaq and Bajic (2023)\",\n",
    "        \"description\": f\"learned PCC for classification (resolution {resolution_list[index]})\",\n",
    "        \"results\": {\n",
    "            \"bits\": bits_list[index],\n",
    "            \"acc_top1\": acc_list[index]\n",
    "        }\n",
    "    }\n",
    "    \n",
    "    # Specify the file path for the JSON file\n",
    "    json_file_path = data[\"file_name\"] + '.json'\n",
    "    \n",
    "    # Write data to the JSON file\n",
    "    with open(json_file_path, 'w') as json_file:\n",
    "        json.dump(data, json_file, indent=4)\n",
    "    \n",
    "    print(f'JSON data written to {json_file_path}')"
   ]
  },
  {
   "cell_type": "code",
   "execution_count": null,
   "id": "b439a09b-8b09-479e-9dcc-1609d9490b9d",
   "metadata": {},
   "outputs": [],
   "source": [
    "import json\n",
    "\n",
    "acc_list = [\n",
    "    [ 0.1123348,0.1101322,0.3348018,0.7213656,0.8700441,0.9207048,0.9185022,0.9284141,0.9284141 ], ## 256\n",
    "    [ 0.1101322,0.3292952,0.7367841,0.8744493,0.9162996,0.9262115,0.9328194], ## 128\n",
    "    [ 0.128854626,0.724669604,0.86784141,0.917400881,0.925110132,0.927312775,0.931718062,0.933920705], ## 64\n",
    "]\n",
    "bits_list = [\n",
    "    [352,364.969163,446.4493392,665.5154185,1511.629956,3137.982379,4616.9163,5751.929515,6652.881057],\n",
    "    [364.0529,444.5374,660.5639,1487.4009,4586.0176,6587.1542,7817.6123],\n",
    "    [393.7180617,657.7180617,1478.15859,4552.872247,7805.136564,9525.136564,10669.95595,11567.18062],\n",
    "]\n",
    "resolution_list = [256, 128, 64]\n",
    "\n",
    "for index in range(len(acc_list)):\n",
    "    data = {\n",
    "        \"file_name\": f\"GPCC_PointNetPP_res{resolution_list[index]}\",\n",
    "        \"name\": \"Input compression codec [tmc13, P=1024]\",\n",
    "        \"description\": f\"G-PCC + PointNet++ (resolution {resolution_list[index]})\",\n",
    "        \"results\": {\n",
    "            \"bits\": bits_list[index],\n",
    "            \"acc_top1\": acc_list[index]\n",
    "        }\n",
    "    }\n",
    "    \n",
    "    # Specify the file path for the JSON file\n",
    "    json_file_path = data[\"file_name\"] + '.json'\n",
    "    \n",
    "    # Write data to the JSON file\n",
    "    with open(json_file_path, 'w') as json_file:\n",
    "        json.dump(data, json_file, indent=4)\n",
    "    \n",
    "    print(f'JSON data written to {json_file_path}')"
   ]
  }
 ],
 "metadata": {
  "kernelspec": {
   "display_name": "Python 3 (ipykernel)",
   "language": "python",
   "name": "python3"
  },
  "language_info": {
   "codemirror_mode": {
    "name": "ipython",
    "version": 3
   },
   "file_extension": ".py",
   "mimetype": "text/x-python",
   "name": "python",
   "nbconvert_exporter": "python",
   "pygments_lexer": "ipython3",
   "version": "3.8.18"
  }
 },
 "nbformat": 4,
 "nbformat_minor": 5
}
