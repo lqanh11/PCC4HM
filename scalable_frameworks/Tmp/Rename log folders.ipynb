{
 "cells": [
  {
   "cell_type": "code",
   "execution_count": 10,
   "metadata": {},
   "outputs": [
    {
     "name": "stdout",
     "output_type": "stream",
     "text": [
      "20240115_summary_results.xlsx\n",
      "Renamed folder: 20240115_summary_results.xlsx to results.xlsx\n"
     ]
    }
   ],
   "source": [
    "import os\n",
    "\n",
    "# Specify the directory path\n",
    "directory_path = '/media/avitech/QuocAnh_1TB/Point_Cloud/logs/PCGC_scalable/logs_ModelNet10/cls_only/Proposed_Codec/256'\n",
    "\n",
    "# Iterate over the folders in the directory\n",
    "for folder_name in os.listdir(directory_path):\n",
    "    # Check if the folder name contains the number \"2024\"\n",
    "    if \"2024\" in folder_name:\n",
    "        print(folder_name)\n",
    "        \n",
    "        # Create the new folder name (replace \"2024\" with your desired new name)\n",
    "        new_folder_name = folder_name[17:]\n",
    "\n",
    "        # Create the full paths for the old and new folders\n",
    "        old_folder_path = os.path.join(directory_path, folder_name)\n",
    "        new_folder_path = os.path.join(directory_path, new_folder_name)\n",
    "\n",
    "        # Rename the folder\n",
    "        os.renames(old_folder_path, new_folder_path)\n",
    "\n",
    "        print(f'Renamed folder: {folder_name} to {new_folder_name}')"
   ]
  },
  {
   "cell_type": "code",
   "execution_count": 5,
   "metadata": {},
   "outputs": [
    {
     "data": {
      "text/plain": [
       "'KeepCoordiantes'"
      ]
     },
     "execution_count": 5,
     "metadata": {},
     "output_type": "execute_result"
    }
   ],
   "source": [
    "folder_name"
   ]
  },
  {
   "cell_type": "code",
   "execution_count": 2,
   "metadata": {},
   "outputs": [
    {
     "data": {
      "text/plain": [
       "17"
      ]
     },
     "execution_count": 2,
     "metadata": {},
     "output_type": "execute_result"
    }
   ],
   "source": [
    "len('2024-01-13_03-00_')"
   ]
  },
  {
   "cell_type": "code",
   "execution_count": 6,
   "metadata": {},
   "outputs": [],
   "source": [
    "folder_name = '2024-01-13_03-00_encFIXa6_baseTRANc_mlp_resolution128_alpha1.0_000'"
   ]
  },
  {
   "cell_type": "code",
   "execution_count": 7,
   "metadata": {},
   "outputs": [
    {
     "data": {
      "text/plain": [
       "'encFIXa6_baseTRANc_mlp_resolution128_alpha1.0_000'"
      ]
     },
     "execution_count": 7,
     "metadata": {},
     "output_type": "execute_result"
    }
   ],
   "source": [
    "folder_name[17:]"
   ]
  },
  {
   "cell_type": "code",
   "execution_count": 6,
   "metadata": {},
   "outputs": [
    {
     "name": "stdout",
     "output_type": "stream",
     "text": [
      "Original Array: [1 2 3 1 2 4 5 6 3]\n",
      "Unique Elements: [1 2 3 4 5 6]\n",
      "Indices of Unique Elements: [0 1 2 5 6 7]\n"
     ]
    }
   ],
   "source": [
    "import numpy as np\n",
    "\n",
    "def remove_duplicates_and_get_indices(arr):\n",
    "    unique_elements, indices = np.unique(arr, return_index=True)\n",
    "    return unique_elements, indices\n",
    "\n",
    "# Example usage:\n",
    "original_array = np.array([1, 2, 3, 1, 2, 4, 5, 6, 3])\n",
    "\n",
    "unique_elements, indices = remove_duplicates_and_get_indices(original_array)\n",
    "\n",
    "print(\"Original Array:\", original_array)\n",
    "print(\"Unique Elements:\", unique_elements)\n",
    "print(\"Indices of Unique Elements:\", indices)"
   ]
  },
  {
   "cell_type": "code",
   "execution_count": null,
   "metadata": {},
   "outputs": [],
   "source": []
  }
 ],
 "metadata": {
  "kernelspec": {
   "display_name": "Python 3",
   "language": "python",
   "name": "python3"
  },
  "language_info": {
   "codemirror_mode": {
    "name": "ipython",
    "version": 3
   },
   "file_extension": ".py",
   "mimetype": "text/x-python",
   "name": "python",
   "nbconvert_exporter": "python",
   "pygments_lexer": "ipython3",
   "version": "3.7.6"
  }
 },
 "nbformat": 4,
 "nbformat_minor": 4
}
